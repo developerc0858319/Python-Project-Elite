{
 "cells": [
  {
   "cell_type": "code",
   "execution_count": 5,
   "id": "b5a8aa69",
   "metadata": {},
   "outputs": [
    {
     "name": "stdout",
     "output_type": "stream",
     "text": [
      "[youtube] sVPYIRF9RCQ: Downloading webpage\n"
     ]
    },
    {
     "name": "stderr",
     "output_type": "stream",
     "text": [
      "WARNING: Requested formats are incompatible for merge and will be merged into mkv.\n"
     ]
    },
    {
     "name": "stdout",
     "output_type": "stream",
     "text": [
      "[download] Destination: Sample_vedio.f137\n",
      "[download] 100% of 19.29MiB in 07:16                    \n",
      "[download] Destination: Sample_vedio.f251\n",
      "[download] 100% of 1.34MiB in 00:18                  \n",
      "[ffmpeg] Merging formats into \"Sample_vedio.mkv\"\n",
      "Deleting original file Sample_vedio.f137 (pass -k to keep)\n",
      "Deleting original file Sample_vedio.f251 (pass -k to keep)\n"
     ]
    }
   ],
   "source": [
    "import sys, youtube_dl\n",
    "YOUTUBE_DL_DIR = 'C:\\\\Users\\\\devel\\\\OneDrive\\\\Documents\\\\Notes\\\\Python-Programming-1214\\\\Assignments'\n",
    "\n",
    "def download_video(videoId):\n",
    "    yvideo = ['https://www.youtube.com/watch?v='+videoId]\n",
    "    ydl_opts = {'outtmpl': 'Sample_vedio'}\n",
    "\n",
    "    with youtube_dl.YoutubeDL(ydl_opts) as ydl:\n",
    "        ydl.download(yvideo)\n",
    "if __name__ == \"__main__\":\n",
    "    videoId = 'sVPYIRF9RCQ'\n",
    "    download_video(videoId)\n"
   ]
  },
  {
   "cell_type": "code",
   "execution_count": 8,
   "id": "8c05e488",
   "metadata": {},
   "outputs": [
    {
     "data": {
      "text/plain": [
       "'C:\\\\Users\\\\devel'"
      ]
     },
     "execution_count": 8,
     "metadata": {},
     "output_type": "execute_result"
    }
   ],
   "source": [
    "import os\n",
    "os.getcwd()"
   ]
  },
  {
   "cell_type": "code",
   "execution_count": 9,
   "id": "8dd87ead",
   "metadata": {},
   "outputs": [],
   "source": [
    "import moviepy.editor as mp"
   ]
  },
  {
   "cell_type": "code",
   "execution_count": 14,
   "id": "f628dee1",
   "metadata": {},
   "outputs": [],
   "source": [
    "clip = mp.VideoFileClip(r\"C:\\\\Users\\\\devel\\\\Sample_vedio.mkv\")"
   ]
  },
  {
   "cell_type": "code",
   "execution_count": 16,
   "id": "ef41e289",
   "metadata": {},
   "outputs": [
    {
     "name": "stdout",
     "output_type": "stream",
     "text": [
      "MoviePy - Writing audio in Sample_Audio.mp3\n"
     ]
    },
    {
     "name": "stderr",
     "output_type": "stream",
     "text": [
      "                                                                                                                       "
     ]
    },
    {
     "name": "stdout",
     "output_type": "stream",
     "text": [
      "MoviePy - Done.\n"
     ]
    },
    {
     "name": "stderr",
     "output_type": "stream",
     "text": [
      "\r"
     ]
    }
   ],
   "source": [
    "clip.audio.write_audiofile(r\"Sample_Audio.mp3\")"
   ]
  },
  {
   "cell_type": "code",
   "execution_count": null,
   "id": "fb3c5126",
   "metadata": {},
   "outputs": [],
   "source": []
  }
 ],
 "metadata": {
  "kernelspec": {
   "display_name": "Python 3 (ipykernel)",
   "language": "python",
   "name": "python3"
  },
  "language_info": {
   "codemirror_mode": {
    "name": "ipython",
    "version": 3
   },
   "file_extension": ".py",
   "mimetype": "text/x-python",
   "name": "python",
   "nbconvert_exporter": "python",
   "pygments_lexer": "ipython3",
   "version": "3.9.12"
  }
 },
 "nbformat": 4,
 "nbformat_minor": 5
}
