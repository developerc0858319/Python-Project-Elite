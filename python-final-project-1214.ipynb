{
 "cells": [
  {
   "cell_type": "code",
   "execution_count": 24,
   "id": "744f7b20",
   "metadata": {},
   "outputs": [],
   "source": [
    "#Importing the necessary packages (os, youtube_dl, editor from moviepy, sqlite3)\n",
    "import os\n",
    "import sys, youtube_dl\n",
    "import moviepy.editor as mp\n",
    "import sqlite3\n",
    "from sqlite3 import Error"
   ]
  },
  {
   "cell_type": "code",
   "execution_count": 25,
   "id": "06fccaf4",
   "metadata": {},
   "outputs": [
    {
     "data": {
      "text/plain": [
       "'C:\\\\Users\\\\devel\\\\OneDrive\\\\Documents\\\\Notes\\\\Python-Programming-1214\\\\Assignments'"
      ]
     },
     "execution_count": 25,
     "metadata": {},
     "output_type": "execute_result"
    }
   ],
   "source": [
    "#Setting up the working directory\n",
    "data_dir=\"C:\\\\Users\\\\devel\\\\OneDrive\\\\Documents\\\\Notes\\\\Python-Programming-1214\\\\Assignments\"\n",
    "os.chdir(data_dir)\n",
    "os.getcwd()"
   ]
  },
  {
   "cell_type": "code",
   "execution_count": 26,
   "id": "343203c4",
   "metadata": {},
   "outputs": [],
   "source": [
    "#Setting up the YouTube directory where the video file will be downloaded\n",
    "YOUTUBE_DL_DIR = 'C:\\\\Users\\\\devel\\\\OneDrive\\\\Documents\\\\Notes\\\\Python-Programming-1214\\\\Assignments'"
   ]
  },
  {
   "cell_type": "code",
   "execution_count": 27,
   "id": "5631e928",
   "metadata": {},
   "outputs": [],
   "source": [
    "#.   Creating function download_video() to download the video from Youtube where we are specifying the link and specifying the name for the video that needs to be saved in the local\n",
    "def download_video(videoId):\n",
    "    ytbevideo = ['https://www.youtube.com/watch?v='+videoId]\n",
    "    ytbe_opts = {'outtmpl': 'Project_Video'}\n",
    "\n",
    "    with youtube_dl.YoutubeDL(ytbe_opts) as ydl:\n",
    "        ydl.download(ytbevideo)"
   ]
  },
  {
   "cell_type": "code",
   "execution_count": 28,
   "id": "e8ad7bca",
   "metadata": {},
   "outputs": [
    {
     "name": "stdout",
     "output_type": "stream",
     "text": [
      "[youtube] sVPYIRF9RCQ: Downloading webpage\n"
     ]
    },
    {
     "name": "stderr",
     "output_type": "stream",
     "text": [
      "WARNING: Requested formats are incompatible for merge and will be merged into mkv.\n"
     ]
    },
    {
     "name": "stdout",
     "output_type": "stream",
     "text": [
      "[download] Destination: Project_Video.f137\n",
      "[download] 100% of 19.29MiB in 05:32                    \n",
      "[download] Destination: Project_Video.f251\n",
      "[download] 100% of 1.34MiB in 00:22                 \n",
      "[ffmpeg] Merging formats into \"Project_Video.mkv\"\n",
      "Deleting original file Project_Video.f137 (pass -k to keep)\n",
      "Deleting original file Project_Video.f251 (pass -k to keep)\n"
     ]
    }
   ],
   "source": [
    "#Calling the function download_video() in the main program by passing the id of the video as parameter\n",
    "if __name__ == \"__main__\":\n",
    "    videoId = 'sVPYIRF9RCQ'\n",
    "    download_video(videoId)"
   ]
  },
  {
   "cell_type": "code",
   "execution_count": 29,
   "id": "f628dee1",
   "metadata": {},
   "outputs": [],
   "source": [
    "#Creating a subprocess using VideoFileClip for the above-saved video\n",
    "clip = mp.VideoFileClip(r\"C:\\\\Users\\\\devel\\\\OneDrive\\\\Documents\\\\Notes\\\\Python-Programming-1214\\\\Assignments\\\\Project_Video.mkv\")"
   ]
  },
  {
   "cell_type": "code",
   "execution_count": 30,
   "id": "ef41e289",
   "metadata": {},
   "outputs": [
    {
     "name": "stdout",
     "output_type": "stream",
     "text": [
      "MoviePy - Writing audio in Project_audio.mp3\n"
     ]
    },
    {
     "name": "stderr",
     "output_type": "stream",
     "text": [
      "                                                                     "
     ]
    },
    {
     "name": "stdout",
     "output_type": "stream",
     "text": [
      "MoviePy - Done.\n"
     ]
    },
    {
     "name": "stderr",
     "output_type": "stream",
     "text": [
      "\r"
     ]
    }
   ],
   "source": [
    "#Extracting the audio from the specified video and saving the audio clip as Project_audio.mp3 in the local path\n",
    "clip.audio.write_audiofile(r\"Project_audio.mp3\")"
   ]
  },
  {
   "cell_type": "code",
   "execution_count": 31,
   "id": "b150dfbb",
   "metadata": {},
   "outputs": [
    {
     "name": "stdout",
     "output_type": "stream",
     "text": [
      "C:\\Users\\devel\\elite_blob_data\n"
     ]
    }
   ],
   "source": [
    "cd C:\\Users\\devel\\elite_blob_data"
   ]
  },
  {
   "cell_type": "code",
   "execution_count": 32,
   "id": "6007fc95",
   "metadata": {},
   "outputs": [
    {
     "data": {
      "text/plain": [
       "'C:\\\\Users\\\\devel\\\\elite_blob_data'"
      ]
     },
     "execution_count": 32,
     "metadata": {},
     "output_type": "execute_result"
    }
   ],
   "source": [
    "os.getcwd()"
   ]
  },
  {
   "cell_type": "code",
   "execution_count": 33,
   "id": "76e6be56",
   "metadata": {},
   "outputs": [
    {
     "name": "stdout",
     "output_type": "stream",
     "text": [
      "DB Init\n",
      "SQLite Connection closed\n"
     ]
    }
   ],
   "source": [
    "#Connecting to the database and creating a table Elite_audio_uploads\n",
    "try:\n",
    "    \n",
    "    # Connect to DB and create a cursor\n",
    "    sqliteConnection = sqlite3.connect('app.db')\n",
    "    cursor = sqliteConnection.cursor()\n",
    "    print('DB Init')\n",
    "    \n",
    "    # Write a query and execute it with cursor\n",
    "    query = 'CREATE TABLE IF NOT EXISTS Elite_audio_uploads (id integer PRIMARY KEY,file_name text NOT NULL,file_blob text NOT NULL);'\n",
    "    cursor.execute(query)\n",
    "  \n",
    "    # Fetch and output result\n",
    "    result = cursor.fetchall()\n",
    "   \n",
    "    # Close the cursor\n",
    "    cursor.close()\n",
    "  \n",
    "# Handle errors\n",
    "except sqlite3.Error as error:\n",
    "    print('Error occured - ', error)\n",
    "  \n",
    "# Close DB Connection irrespective of success\n",
    "# or failure\n",
    "finally:\n",
    "    \n",
    "    if sqliteConnection:\n",
    "        sqliteConnection.close()\n",
    "        print('SQLite Connection closed')\n"
   ]
  },
  {
   "cell_type": "code",
   "execution_count": 34,
   "id": "027e8a63",
   "metadata": {},
   "outputs": [],
   "source": [
    "#Creating a function ‘insert_into_database()’ to insert the audio file details to the created table Elite_audio_uploads\n",
    "def insert_into_database(file_path_name, file_blob): \n",
    "    try:\n",
    "        conn = sqlite3.connect('app.db')\n",
    "        print(\"[INFO] : Successful connection!\")\n",
    "        cur = conn.cursor()\n",
    "        sql_insert_file_query = '''INSERT INTO Elite_audio_uploads(file_name, file_blob) VALUES(?, ?)'''\n",
    "        cur = conn.cursor()\n",
    "        cur.execute(sql_insert_file_query, (file_path_name, file_blob, ))\n",
    "        conn.commit()\n",
    "        print(\"[INFO] : The blob for \", file_path_name, \" is in the database.\") \n",
    "        last_updated_entry = cur.lastrowid\n",
    "        return last_updated_entry\n",
    "    # Handle errors\n",
    "    except Error as e:\n",
    "        print(e)\n",
    "    # Close DB Connection irrespective of success\n",
    "    finally:\n",
    "        if conn:\n",
    "            conn.close()\n",
    "        else:\n",
    "            error = \"Something is wrong here.\"\n"
   ]
  },
  {
   "cell_type": "code",
   "execution_count": 35,
   "id": "1ade66c8",
   "metadata": {},
   "outputs": [],
   "source": [
    "#Creating a function ‘convert_into_binary()’ to convert the targeted audio file into binary format\n",
    "def convert_into_binary(file_path):\n",
    "    with open(file_path, 'rb') as file:\n",
    "        binary = file.read()\n",
    "    return binary    "
   ]
  },
  {
   "cell_type": "code",
   "execution_count": 36,
   "id": "52e77611",
   "metadata": {},
   "outputs": [],
   "source": [
    "#Creating a function ‘read_blob_data()’ to read the saved audio record from the database\n",
    "def read_blob_data(entry_id):\n",
    "    try:\n",
    "        conn = sqlite3.connect('app.db')\n",
    "        cur = conn.cursor()\n",
    "        print(\"[INFO] : Connected to SQLite to read_blob_data\")\n",
    "        sql_fetch_blob_query = \"\"\"SELECT * from Elite_audio_uploads where id = ?\"\"\"\n",
    "        cur.execute(sql_fetch_blob_query, (entry_id,))\n",
    "        record = cur.fetchall()\n",
    "        #Extracting the records.\n",
    "        for row in record:\n",
    "            converted_file_name = row[1]\n",
    "            audio_binarycode  = row[2]\n",
    "                        \n",
    "            last_slash_index = converted_file_name.rfind(\"/\") + 1 \n",
    "            final_file_name = converted_file_name[last_slash_index:] \n",
    "            write_to_file(audio_binarycode, final_file_name)\n",
    "            print(\"Audio successfully stored in the local folder. \\n\")\n",
    "        cur.close()\n",
    "    # Handle errors\n",
    "    except sqlite3.Error as error:\n",
    "        print(\"Failed to read audio blob data from sqlite table\", error)\n",
    "    # Close DB Connection irrespective of success\n",
    "    finally:\n",
    "         if conn:\n",
    "            conn.close()"
   ]
  },
  {
   "cell_type": "code",
   "execution_count": 39,
   "id": "68cffe0a",
   "metadata": {},
   "outputs": [],
   "source": [
    "#Creating a function ‘write_to_file()’ to write back the audio file read from the database to the local folder\n",
    "def write_to_file(binary_data, file_name):\n",
    "    outFileName=\"C:\\\\Users\\\\devel\\\\OneDrive\\\\Documents\\\\Notes\\\\Python-Programming-1214\\\\Assignments\\\\Output_Audio_from_database\\\\Project_Audio.mp3\"\n",
    "    with open(outFileName, 'wb') as file:\n",
    "        file.write(binary_data)\n",
    "    print(\"The audio file has been written to the project directory: \", file_name)"
   ]
  },
  {
   "cell_type": "code",
   "execution_count": 40,
   "id": "d3c862c8",
   "metadata": {},
   "outputs": [
    {
     "name": "stdout",
     "output_type": "stream",
     "text": [
      "Python Project!!\n",
      "Enter full audio file path:\n",
      "C:\\Users\\devel\\OneDrive\\Documents\\Notes\\Python-Programming-1214\\Assignments\\Project_Audio.mp3\n",
      "[INFO] : Successful connection!\n",
      "[INFO] : The blob for  C:\\Users\\devel\\OneDrive\\Documents\\Notes\\Python-Programming-1214\\Assignments\\Project_Audio.mp3  is in the database.\n",
      "[INFO] : Connected to SQLite to read_blob_data\n",
      "The audio file has been written to the project directory:  C:\\Users\\devel\\OneDrive\\Documents\\Notes\\Python-Programming-1214\\Assignments\\Project_Audio.mp3\n",
      "Audio successfully stored in the local folder. \n",
      "\n"
     ]
    }
   ],
   "source": [
    "#Creating a function ‘main()’ where the path of the file is being accepted from the user and the functions convert_into_binary, insert_into_database and read_blob_data are called\n",
    "def main():\n",
    "    print(\"Python Project!!\")\n",
    "    file_path_name = input(\"Enter full audio file path:\\n\") \n",
    "    file_blob = convert_into_binary(file_path_name)\n",
    "    \n",
    "    last_updated_entry = insert_into_database(file_path_name, file_blob)\n",
    "    read_blob_data(last_updated_entry)\n",
    "\n",
    "#Calling the above-created function from the main program\n",
    "if __name__ == \"__main__\":\n",
    "    main()"
   ]
  }
 ],
 "metadata": {
  "kernelspec": {
   "display_name": "Python 3 (ipykernel)",
   "language": "python",
   "name": "python3"
  },
  "language_info": {
   "codemirror_mode": {
    "name": "ipython",
    "version": 3
   },
   "file_extension": ".py",
   "mimetype": "text/x-python",
   "name": "python",
   "nbconvert_exporter": "python",
   "pygments_lexer": "ipython3",
   "version": "3.9.12"
  }
 },
 "nbformat": 4,
 "nbformat_minor": 5
}
